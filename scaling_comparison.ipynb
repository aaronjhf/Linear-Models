{
 "cells": [
  {
   "cell_type": "code",
   "execution_count": null,
   "id": "60a0cc9d-cb5b-4a63-92ba-447e3b8e8dc3",
   "metadata": {},
   "outputs": [],
   "source": [
    "# %%\n",
    "\n",
    "import torch\n",
    "import torch.nn as nn\n",
    "from torch.nn import functional as F\n",
    "import torchvision.datasets as dsets\n",
    "import torchvision.transforms as transforms\n",
    "import numpy as np\n",
    "from matplotlib import pyplot as plt\n",
    "\n",
    "device = torch.device(\"cuda\" if torch.cuda.is_available() else \"cpu\")"
   ]
  },
  {
   "cell_type": "code",
   "execution_count": null,
   "id": "96c5850b-119b-4274-b6e4-7bffb6a8c954",
   "metadata": {},
   "outputs": [],
   "source": [
    "# %%\n",
    "\n",
    "#loading MNIST\n",
    "train_data = dsets.MNIST(root = '/Users/aaronhillman/Desktop/data', train = True,transform = transforms.ToTensor(),\n",
    "                   download = True)\n",
    "test_data = dsets.MNIST(root = '/Users/aaronhillman/Deskstop/data', train = False,transform = transforms.ToTensor(),\n",
    "                   download = True)"
   ]
  },
  {
   "cell_type": "code",
   "execution_count": null,
   "id": "6f332675-7f01-4464-9c6f-5558299d18db",
   "metadata": {},
   "outputs": [],
   "source": [
    "# %%\n",
    "\n",
    "Xtr = torch.stack([x[0].view((28*28,)) for x in train_data]).to(device)\n",
    "Ytr = torch.tensor([x[1] for x in train_data]).to(device)\n",
    "Xte = torch.stack([x[0].view((28*28,)) for x in test_data]).to(device)\n",
    "Yte = torch.tensor([x[1] for x in test_data]).to(device)"
   ]
  },
  {
   "cell_type": "code",
   "execution_count": null,
   "id": "e768ce66-69ad-4e90-8a0e-7eae8ccd5d0b",
   "metadata": {},
   "outputs": [],
   "source": [
    "# %%\n",
    "\n",
    "#setup the model\n",
    "class MLP(nn.Module):\n",
    "\n",
    "    def __init__(self, width):\n",
    "        super().__init__()\n",
    "        self.width = width\n",
    "        self.net = nn.Sequential( nn.Linear(28*28, width), nn.ReLU(), nn.Linear(width, 10))\n",
    "\n",
    "    \n",
    "\n",
    "    def forward(self, x_batch, y_batch = None):\n",
    "        x_out = self.net(x_batch)\n",
    "        if y_batch is None:\n",
    "            loss = None\n",
    "        else:\n",
    "            loss = F.cross_entropy(x_out, y_batch)\n",
    "\n",
    "        return x_out, loss"
   ]
  },
  {
   "cell_type": "code",
   "execution_count": null,
   "id": "b6653e63-47df-484c-b553-e328099ee273",
   "metadata": {},
   "outputs": [],
   "source": [
    "#%%\n",
    "\n",
    "def MLP_param_count(MLPwidth):\n",
    "    m = MLP(MLPwidth).to(device)\n",
    "    param_count = 0\n",
    "    for p in m.parameters():\n",
    "        param_count += p.numel()\n",
    "\n",
    "    return param_count"
   ]
  },
  {
   "cell_type": "code",
   "execution_count": null,
   "id": "76e558b9-7971-4374-bb72-21f91e562851",
   "metadata": {},
   "outputs": [
    {
     "name": "stdout",
     "output_type": "stream",
     "text": [
      "31\n",
      "35\n",
      "39\n",
      "44\n",
      "50\n",
      "56\n",
      "63\n",
      "71\n",
      "80\n",
      "91\n",
      "102\n",
      "115\n",
      "129\n",
      "145\n",
      "163\n",
      "184\n",
      "207\n",
      "232\n",
      "262\n",
      "294\n",
      "331\n",
      "372\n",
      "419\n",
      "471\n",
      "530\n",
      "596\n",
      "670\n",
      "754\n",
      "848\n",
      "954\n",
      "1073\n",
      "1206\n",
      "1357\n",
      "1526\n",
      "1716\n",
      "1930\n",
      "2171\n",
      "2442\n",
      "2746\n",
      "3088\n",
      "3473\n",
      "3906\n",
      "4393\n",
      "4941\n",
      "5557\n",
      "6250\n",
      "7029\n",
      "7906\n",
      "8891\n",
      "10000\n"
     ]
    },
    {
     "data": {
      "text/plain": [
       "'Now the CNN'"
      ]
     },
     "execution_count": 6,
     "metadata": {},
     "output_type": "execute_result"
    }
   ],
   "source": [
    "# %%\n",
    "\n",
    "MLP_sizes = []\n",
    "MLP_losses = []\n",
    "\n",
    "for model_size in torch.logspace(1.5, 4, 50):\n",
    "    \n",
    "    MLP_sizes.append(MLP_param_count(int(model_size)))\n",
    "\n",
    "    m = MLP(int(model_size)).to(device) #create the model\n",
    "    print(int(model_size))\n",
    "\n",
    "    optimizer = torch.optim.AdamW(m.parameters(), lr = 1e-4)\n",
    "\n",
    "    xloss = []\n",
    "    yloss = []\n",
    "    running_loss = 0\n",
    "    B = 64\n",
    "\n",
    "    for i in range(10000):\n",
    "        rand_inds = torch.randint(0, len(Xtr), (B,))\n",
    "        Xb, Yb = Xtr[rand_inds], Ytr[rand_inds]\n",
    "        out_probs, loss = m.forward(Xb, Yb)\n",
    "\n",
    "        optimizer.zero_grad(set_to_none = True)\n",
    "\n",
    "        loss.backward()\n",
    "        optimizer.step()\n",
    "\n",
    "        running_loss += loss\n",
    "\n",
    "        if i%200 == 0:\n",
    "            xloss.append(i)\n",
    "            yloss.append(running_loss/200)\n",
    "            running_loss = 0\n",
    "    \n",
    "    MLP_losses.append(yloss[-1].item())\n",
    "            \n",
    "with open(\"MLPsizes_cuda.txt\", \"w\") as f:\n",
    "    np.savetxt(f, MLP_sizes)\n",
    "\n",
    "with open(\"MLPlosses_cuda.txt\", \"w\") as f:\n",
    "    np.savetxt(f, MLP_losses)\n",
    "\n",
    "\n",
    "\"\"\"Now the CNN\"\"\""
   ]
  },
  {
   "cell_type": "code",
   "execution_count": null,
   "id": "4dde44d6-ff21-4400-9eff-e51d442f85f8",
   "metadata": {},
   "outputs": [],
   "source": [
    "#%%\n",
    "\n",
    "Xtr = torch.stack([x[0] for x in train_data]).to(device)\n",
    "Ytr = torch.tensor([x[1] for x in train_data]).to(device)\n",
    "Xte = torch.stack([x[0] for x in test_data]).to(device)\n",
    "Yte = torch.tensor([x[1] for x in test_data]).to(device)"
   ]
  },
  {
   "cell_type": "code",
   "execution_count": null,
   "id": "6db4a5f1-e152-4687-b6ad-0b8a203a911d",
   "metadata": {},
   "outputs": [],
   "source": [
    "#%%\n",
    "\n",
    "#convolution layer applied to MNIST image\n",
    "\n",
    "class CNN(nn.Module):\n",
    "\n",
    "    def __init__(self, width, k):\n",
    "        super().__init__()\n",
    "        self.width = width\n",
    "        self.k = k\n",
    "        self.conv = nn.Conv2d(1, width , k)\n",
    "        self.lin = nn.Linear(self.width*(28-self.k+1)*(28-self.k+1), 10)\n",
    "    \n",
    "    def forward(self, x_batch, y_batch = None):\n",
    "        B = x_batch.shape[0]\n",
    "        x = self.conv(x_batch)\n",
    "        x = F.relu(x)\n",
    "        x = x.view((B, self.width*(28-self.k+1)*(28-self.k+1)))\n",
    "        x = self.lin(x)\n",
    "        \n",
    "        if y_batch is None:\n",
    "            loss = None\n",
    "        else:\n",
    "            loss = F.cross_entropy(x, y_batch)\n",
    "        \n",
    "        return x, loss \n",
    "    \n",
    "def CNN_param_count(width, k):\n",
    "    m = CNN(width, k).to(device)\n",
    "    param_count = 0\n",
    "    for p in m.parameters():\n",
    "        param_count += p.numel()\n",
    "\n",
    "    return param_count"
   ]
  },
  {
   "cell_type": "code",
   "execution_count": null,
   "id": "7c1dca45-0819-444e-a1dc-77e2f6fe80f4",
   "metadata": {},
   "outputs": [],
   "source": [
    "#%%\n",
    "\n",
    "CNN3_sizes = []\n",
    "CNN3_losses = []"
   ]
  },
  {
   "cell_type": "code",
   "execution_count": null,
   "id": "7c5e4484-c4f6-4b71-b622-0cc6a5a7f277",
   "metadata": {},
   "outputs": [
    {
     "name": "stdout",
     "output_type": "stream",
     "text": [
      "1\n",
      "1\n",
      "1\n",
      "1\n",
      "1\n",
      "2\n",
      "2\n",
      "2\n",
      "3\n",
      "3\n",
      "4\n",
      "4\n",
      "5\n",
      "6\n",
      "7\n",
      "8\n",
      "9\n",
      "10\n",
      "12\n",
      "14\n",
      "16\n",
      "19\n",
      "22\n",
      "25\n",
      "29\n",
      "33\n",
      "39\n",
      "44\n",
      "51\n",
      "59\n",
      "68\n",
      "79\n",
      "91\n",
      "104\n",
      "120\n",
      "138\n",
      "159\n",
      "184\n",
      "212\n",
      "244\n",
      "281\n",
      "323\n",
      "372\n",
      "429\n",
      "494\n",
      "568\n",
      "655\n",
      "754\n",
      "868\n",
      "1000\n"
     ]
    }
   ],
   "source": [
    "# %%\n",
    "\n",
    "for model_size in torch.logspace(0, 3, 50):\n",
    "    print(int(model_size))\n",
    "\n",
    "    CNN3_sizes.append(CNN_param_count(int(model_size), 3))\n",
    "\n",
    "    m = CNN(int(model_size), 3).to(device) #create the model\n",
    "\n",
    "    optimizer = torch.optim.AdamW(m.parameters(), lr = 1e-4)\n",
    "\n",
    "    xloss = []\n",
    "    yloss = []\n",
    "    running_loss = 0\n",
    "    B = 64\n",
    "\n",
    "    for i in range(10000):\n",
    "        rand_inds = torch.randint(0, len(Xtr), (B,))\n",
    "        Xb, Yb = Xtr[rand_inds], Ytr[rand_inds]\n",
    "        out_probs, loss = m.forward(Xb, Yb)\n",
    "\n",
    "        optimizer.zero_grad(set_to_none = True)\n",
    "\n",
    "        loss.backward()\n",
    "        optimizer.step()\n",
    "\n",
    "        running_loss += loss\n",
    "\n",
    "        if i%200 == 0:\n",
    "            xloss.append(i)\n",
    "            yloss.append(running_loss/200)\n",
    "            running_loss = 0\n",
    "    \n",
    "    CNN3_losses.append(yloss[-1].item())\n",
    "\n",
    "with open(\"CNN3sizes.txt\", \"w\") as f:\n",
    "    np.savetxt(f, CNN3_sizes)\n",
    "\n",
    "with open(\"CNN3losses.txt\", \"w\") as f:\n",
    "    np.savetxt(f, CNN3_losses)"
   ]
  },
  {
   "cell_type": "code",
   "execution_count": null,
   "id": "f1944a9c-3d69-407c-afe0-1989257fa9b6",
   "metadata": {},
   "outputs": [
    {
     "name": "stdout",
     "output_type": "stream",
     "text": [
      "10\n",
      "10\n",
      "12\n",
      "13\n",
      "14\n",
      "15\n",
      "17\n",
      "19\n",
      "21\n",
      "23\n",
      "25\n",
      "28\n",
      "30\n",
      "33\n",
      "37\n",
      "40\n",
      "44\n",
      "49\n",
      "54\n",
      "59\n",
      "65\n",
      "71\n",
      "79\n",
      "86\n",
      "95\n",
      "104\n",
      "115\n",
      "126\n",
      "138\n",
      "152\n",
      "167\n",
      "184\n",
      "202\n",
      "222\n",
      "244\n",
      "268\n",
      "294\n",
      "323\n",
      "355\n",
      "390\n",
      "429\n",
      "471\n",
      "517\n",
      "568\n",
      "625\n",
      "686\n",
      "754\n",
      "828\n",
      "910\n",
      "1000\n"
     ]
    }
   ],
   "source": [
    "#%%\n",
    "\n",
    "CNN14_sizes = []\n",
    "CNN14_losses = []\n",
    "\n",
    "for model_size in torch.logspace(1, 3, 50):\n",
    "    print(int(model_size))\n",
    "\n",
    "    CNN14_sizes.append(CNN_param_count(int(model_size), 14))\n",
    "\n",
    "    m = CNN(int(model_size), 14).to(device) #create the model\n",
    "\n",
    "    optimizer = torch.optim.AdamW(m.parameters(), lr = 1e-4)\n",
    "\n",
    "    xloss = []\n",
    "    yloss = []\n",
    "    running_loss = 0\n",
    "    B = 64\n",
    "\n",
    "    for i in range(10000):\n",
    "        rand_inds = torch.randint(0, len(Xtr), (B,))\n",
    "        Xb, Yb = Xtr[rand_inds], Ytr[rand_inds]\n",
    "        out_probs, loss = m.forward(Xb, Yb)\n",
    "\n",
    "        optimizer.zero_grad(set_to_none = True)\n",
    "\n",
    "        loss.backward()\n",
    "        optimizer.step()\n",
    "\n",
    "        running_loss += loss\n",
    "\n",
    "        if i%200 == 0:\n",
    "            xloss.append(i)\n",
    "            yloss.append(running_loss/200)\n",
    "            running_loss = 0\n",
    "    \n",
    "    CNN14_losses.append(yloss[-1].item())\n",
    "\n",
    "with open(\"CNN14sizes.txt\", \"w\") as f:\n",
    "    np.savetxt(f, CNN3_sizes)\n",
    "\n",
    "with open(\"CNN14losses.txt\", \"w\") as f:\n",
    "    np.savetxt(f, CNN3_losses)"
   ]
  },
  {
   "cell_type": "code",
   "execution_count": null,
   "id": "a4711a6c-4fb5-48e9-a6ae-1c46de3c8ece",
   "metadata": {},
   "outputs": [
    {
     "data": {
      "text/plain": [
       "[<matplotlib.lines.Line2D at 0x32ea7a640>]"
      ]
     },
     "execution_count": 12,
     "metadata": {},
     "output_type": "execute_result"
    },
    {
     "data": {
      "image/png": "[encoded data removed]",
      "text/plain": [
       "<Figure size 640x480 with 1 Axes>"
      ]
     },
     "metadata": {},
     "output_type": "display_data"
    }
   ],
   "source": [
    "#%%\n",
    "\n",
    "plt.loglog(MLP_sizes, MLP_losses, \"*\")\n",
    "plt.loglog(CNN3_sizes, CNN3_losses, \"*\")\n",
    "plt.loglog(CNN14_sizes, CNN14_losses, \"*\")"
   ]
  },
  {
   "cell_type": "code",
   "execution_count": null,
   "metadata": {},
   "outputs": [
    {
     "name": "stdout",
     "output_type": "stream",
     "text": [
      "m:  -0.6681418873042348\n",
      "c:  4.457738095020605\n",
      "m:  -0.5554907210635802\n",
      "c:  3.98802930710763\n",
      "m:  -0.5305638345135504\n",
      "c:  4.263401730264069\n"
     ]
    },
    {
     "name": "stderr",
     "output_type": "stream",
     "text": [
      "<ipython-input-58-dbb93acc15f9>:7: FutureWarning: `rcond` parameter will change to the default of machine precision times ``max(M, N)`` where M and N are the input matrix dimensions.\n",
      "To use the future default and silence this warning we advise to pass `rcond=None`, to keep using the old, explicitly pass `rcond=-1`.\n",
      "  m, c = np.linalg.lstsq(A, ylog)[0]\n"
     ]
    },
    {
     "data": {
      "image/png": "[encoded data removed]",
      "text/plain": [
       "<Figure size 640x480 with 1 Axes>"
      ]
     },
     "metadata": {},
     "output_type": "display_data"
    }
   ],
   "source": [
    "CNN14fitx, CNN14fity = power_fit(CNN14_sizes, CNN14_losses)\n",
    "CNN3fitx, CNN3fity = power_fit(CNN3_sizes, CNN3_losses)\n",
    "MLPfitx, MLPfity = power_fit(MLP_sizes, MLP_losses)\n",
    "plt.loglog(MLP_sizes, MLP_losses, \"*\")\n",
    "plt.loglog(CNN3_sizes, CNN3_losses, \"*\")\n",
    "plt.loglog(CNN14_sizes, CNN14_losses, \"*\")\n",
    "plt.loglog(MLPfitx, MLPfity, color = 'tab:blue')\n",
    "plt.loglog(CNN3fitx, CNN3fity, color = 'tab:orange')\n",
    "plt.loglog(CNN14fitx, CNN14fity, color = 'tab:green')\n",
    "plt.xlabel(\"Number of Parameters\")\n",
    "plt.ylabel(\"Test Loss\")\n",
    "plt.legend([\"MLP\", \"$\\\\text{CNN}_{3x3}$\", \"$\\\\text{CNN}_{14x14}$\", \"Fit: $\\\\frac{4.24}{N^{.53}} $\", \"Fit: $\\\\frac{3.9}{N^{.55}} $\", \"Fit: $\\\\frac{4.57}{N^{.66}} $\"])\n",
    "plt.show()"
   ]
  },
  {
   "cell_type": "code",
   "execution_count": null,
   "metadata": {},
   "outputs": [
    {
     "name": "stdout",
     "output_type": "stream",
     "text": [
      "m:  -1.7907136022827186\n",
      "c:  5.283460556635136\n"
     ]
    },
    {
     "name": "stderr",
     "output_type": "stream",
     "text": [
      "<ipython-input-58-dbb93acc15f9>:7: FutureWarning: `rcond` parameter will change to the default of machine precision times ``max(M, N)`` where M and N are the input matrix dimensions.\n",
      "To use the future default and silence this warning we advise to pass `rcond=None`, to keep using the old, explicitly pass `rcond=-1`.\n",
      "  m, c = np.linalg.lstsq(A, ylog)[0]\n"
     ]
    },
    {
     "data": {
      "image/png": "[encoded data removed]",
      "text/plain": [
       "<Figure size 640x480 with 1 Axes>"
      ]
     },
     "metadata": {},
     "output_type": "display_data"
    }
   ],
   "source": [
    "Xtr = torch.stack([x[0].view((28*28,)) for x in train_data])\n",
    "Ytr = torch.tensor([x[1] for x in train_data])\n",
    "C = Xtr.transpose(-2, -1) @ Xtr / Xtr.shape[0]\n",
    "eigvals = sorted(np.linalg.eigvalsh(C))[::-1]\n",
    "ivals = range(1, len(eigvals)+1)\n",
    "xfit, yfit = power_fit([i for i in ivals[40:-450]], eigvals[40:-450])\n",
    "\n",
    "plt.loglog(ivals, eigvals, \"*\")\n",
    "plt.loglog(ivals, [np.exp(5.28)*x**(-1.79) for x in ivals], color=\"tab:blue\")\n",
    "plt.xlim(1e0, 1e3)\n",
    "plt.ylim(1e-14, 1e2)\n",
    "plt.xlabel(\"$i$\")\n",
    "plt.ylabel(\"$\\lambda_i$\")\n",
    "plt.title(\"MNIST Eigenvalue Spectrum\")\n",
    "plt.legend([\"eigenvalues\", \"Fit $\\\\nu = 1.79$\"])\n",
    "plt.show()"
   ]
  }
 ],
 "metadata": {
  "language_info": {
   "codemirror_mode": {
    "name": "ipython",
    "version": 3
   },
   "file_extension": ".py",
   "mimetype": "text/x-python",
   "name": "python",
   "nbconvert_exporter": "python",
   "pygments_lexer": "ipython3",
   "version": 3
  }
 },
 "nbformat": 4,
 "nbformat_minor": 2
}
